{
 "cells": [
  {
   "cell_type": "markdown",
   "id": "a948c51c",
   "metadata": {},
   "source": [
    "# Proyecto del Día 5: Generador de Tablas de Multiplicar"
   ]
  },
  {
   "cell_type": "markdown",
   "id": "e8159936",
   "metadata": {},
   "source": [
    "\n",
    "Este proyecto de Python permite al usuario generar tablas de multiplicar para cualquier número y hasta un límite específico de multiplicación.\n",
    "\n",
    "## Consigna\n",
    "Vas a crear un código que le pida al usuario un **número para multiplicar**, y un **número límite** para establecer hasta cuánto lo vamos a multiplicar.\n",
    "\n",
    "Por ejemplo, si el usuario elige:\n",
    "- Número: 5\n",
    "- Límite: 3\n",
    "\n",
    "El programa le devolverá:\n",
    "```\n",
    "5 x 1 = 5\n",
    "5 x 2 = 10\n",
    "5 x 3 = 15\n",
    "````\n",
    "\n",
    "Cuando el programa termine de mostrar los resultados, debe preguntarle al usuario si desea calcular otra tabla, o finalizar el programa.\n",
    "\n",
    "**Recomendaciones**:\n",
    "- Crear una función que se encargue de calcular las tablas\n",
    "- Crear una función global que se encargue de:\n",
    "    - Solicitar al usuario un número para generar su tabla de multiplicar.\n",
    "    - Pedir el límite hasta donde se quiere llegar en la multiplicación.\n",
    "    - Llamar a la función que crea las tablas\n",
    "    \n",
    "- Emplear bucles `for` y la función `range` para la lógica de la tabla.\n",
    "- Implementar un bucle `while` para que el usuario pueda generar múltiples tablas o salir del programa.\n"
   ]
  },
  {
   "cell_type": "code",
   "execution_count": 11,
   "id": "39ac3e8e",
   "metadata": {},
   "outputs": [
    {
     "name": "stdout",
     "output_type": "stream",
     "text": [
      "BIENVENIDO A TU CALCULADORA FAVORITA\n",
      "-----------------------------------\n",
      "-----------------------------------------\n",
      "1.Buscar tabla de multiplicación\n",
      "2.Salir\n",
      "-----------------------------------------\n"
     ]
    },
    {
     "name": "stdin",
     "output_type": "stream",
     "text": [
      "Ingresa la opción que deseas elegir: 3\n"
     ]
    },
    {
     "name": "stdout",
     "output_type": "stream",
     "text": [
      "Ingresa una opción válida\n",
      "-----------------------------------------\n",
      "1.Buscar tabla de multiplicación\n",
      "2.Salir\n",
      "-----------------------------------------\n"
     ]
    },
    {
     "name": "stdin",
     "output_type": "stream",
     "text": [
      "Ingresa la opción que deseas elegir: 1\n",
      "Ingresa el número que deseas multiplicar: 13\n",
      "¿Hasta qué número deseas contar? 2\n"
     ]
    },
    {
     "name": "stdout",
     "output_type": "stream",
     "text": [
      "13 * 1 = 13\n",
      "13 * 2 = 26\n",
      "-----------------------------------------\n",
      "1.Buscar tabla de multiplicación\n",
      "2.Salir\n",
      "-----------------------------------------\n"
     ]
    },
    {
     "name": "stdin",
     "output_type": "stream",
     "text": [
      "Ingresa la opción que deseas elegir: 2\n"
     ]
    },
    {
     "name": "stdout",
     "output_type": "stream",
     "text": [
      "Has abandonado la aplicación\n"
     ]
    }
   ],
   "source": [
    "def tablas(numero, limite):\n",
    "    for i in range(1,limite+1):\n",
    "        print(f\"{numero} * {i} = {numero*i}\")\n",
    "\n",
    "def pedir_numeros():\n",
    "    num = int(input(\"Ingresa el número que deseas multiplicar:\"))\n",
    "    limite = int(input(\"¿Hasta qué número deseas contar?\"))\n",
    "    return num,limite\n",
    "\n",
    "print(\"BIENVENIDO A TU CALCULADORA FAVORITA\")\n",
    "print(\"-----------------------------------\")\n",
    "repetir = True\n",
    "\n",
    "while repetir:\n",
    "    print(\"-----------------------------------------\")  \n",
    "    print(\"1.Buscar tabla de multiplicación\")\n",
    "    print(\"2.Salir\")\n",
    "    print(\"-----------------------------------------\")\n",
    "\n",
    "    opcion = input(\"Ingresa la opción que deseas elegir:\")\n",
    "    repetir = True\n",
    "    if opcion == \"1\":\n",
    "        num, limite = pedir_numeros()\n",
    "        tablas(num, limite)\n",
    "        repetir = True\n",
    "  \n",
    "        \n",
    "    elif opcion == \"2\":\n",
    "        print(\"Has abandonado la aplicación\")\n",
    "        repetir = False\n",
    "\n",
    "    else:\n",
    "        print(\"Ingresa una opción válida\")\n",
    "        repetir = True\n",
    "\n"
   ]
  },
  {
   "cell_type": "code",
   "execution_count": null,
   "id": "ea9b0e38-392b-44a7-bace-dfdb428dec21",
   "metadata": {},
   "outputs": [],
   "source": []
  }
 ],
 "metadata": {
  "kernelspec": {
   "display_name": "Python 3 (ipykernel)",
   "language": "python",
   "name": "python3"
  },
  "language_info": {
   "codemirror_mode": {
    "name": "ipython",
    "version": 3
   },
   "file_extension": ".py",
   "mimetype": "text/x-python",
   "name": "python",
   "nbconvert_exporter": "python",
   "pygments_lexer": "ipython3",
   "version": "3.12.7"
  }
 },
 "nbformat": 4,
 "nbformat_minor": 5
}
