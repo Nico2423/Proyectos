{
 "cells": [
  {
   "cell_type": "markdown",
   "id": "9572445f",
   "metadata": {},
   "source": [
    "<h1>Analizador de Texto</h1>\n",
    "\n",
    "Este proyecto tiene como objetivo aplicar los conceptos aprendidos sobre strings, input, indexación y formateo de strings en Python. El programa permitirá al usuario ingresar un texto y luego elegir realizar diversas operaciones de análisis sobre ese texto.\n",
    "\n",
    "## Consigna\n",
    "Crear un programa que le pida al usuario que ingrese un texto de al menos 10 palabras. El programa se encarga procesar ese texto, lo va a procesar, y le va a devolver un análisis detallado, que incluya:\n",
    "1. Contar el número total de caracteres en el texto\n",
    "2. Contar el número de caracteres sin incluir los espacios\n",
    "3. Contar la cantidad de vocales que hay en el texto\n",
    "4. Contar el número total de palabras en el texto ingresado\n",
    "5. Eliminar la primera palabra\n",
    "6. Reemplazar todos los espacios por guiones medios (-)\n",
    "8. Cambia las mayúsculas a minúsculas y las minúsculas a mayúsculas \n",
    "\n",
    "Al finalizar el procesamiento, se imprimirán 8 cadenas literales mostrando los resultados del análisis (una cadena por cada resultado).\n",
    "<br>\n",
    "<br>\n",
    "<br>"
   ]
  },
  {
   "cell_type": "markdown",
   "id": "e5cd9e4d",
   "metadata": {},
   "source": [
    "### Resolución\n",
    "\n",
    "Ingreso del usuario:"
   ]
  },
  {
   "cell_type": "code",
   "execution_count": 39,
   "id": "fa27da8c",
   "metadata": {},
   "outputs": [
    {
     "name": "stdin",
     "output_type": "stream",
     "text": [
      "Ingresa un texto de mínimo 10 palabras:  Hola, soy Nicolás y me encuentro estudiando para ser un Data Science \n"
     ]
    }
   ],
   "source": [
    "texto = input (\"Ingresa un texto de mínimo 10 palabras: \")"
   ]
  },
  {
   "cell_type": "markdown",
   "id": "41214377",
   "metadata": {},
   "source": [
    "1. Contar el número total de caracteres en el texto"
   ]
  },
  {
   "cell_type": "code",
   "execution_count": 41,
   "id": "40448873",
   "metadata": {},
   "outputs": [
    {
     "name": "stdout",
     "output_type": "stream",
     "text": [
      "69\n"
     ]
    }
   ],
   "source": [
    "conteo_caracteres = len(texto)\n",
    "print(conteo_caracteres)"
   ]
  },
  {
   "cell_type": "markdown",
   "id": "3d6378dc",
   "metadata": {},
   "source": [
    "2. Contar el número de caracteres sin incluir los espacios"
   ]
  },
  {
   "cell_type": "code",
   "execution_count": 51,
   "id": "991b29c7",
   "metadata": {},
   "outputs": [
    {
     "name": "stdout",
     "output_type": "stream",
     "text": [
      "57\n"
     ]
    }
   ],
   "source": [
    "espacios = texto.count(\" \")\n",
    "caracteres_sin_espacios = len(texto) - espacios\n",
    "print (caracteres_sin_espacios)"
   ]
  },
  {
   "cell_type": "markdown",
   "id": "c6e62385",
   "metadata": {},
   "source": [
    "3. Contar la cantidad de vocales que hay en el texto"
   ]
  },
  {
   "cell_type": "code",
   "execution_count": 53,
   "id": "65b19bc7",
   "metadata": {},
   "outputs": [
    {
     "name": "stdout",
     "output_type": "stream",
     "text": [
      "24\n"
     ]
    }
   ],
   "source": [
    "vocales_a= texto.count(\"a\")\n",
    "vocales_e= texto.count(\"e\")\n",
    "vocales_i= texto.count(\"i\")\n",
    "vocales_o= texto.count(\"o\")\n",
    "vocales_u= texto.count(\"u\")\n",
    "vocales = vocales_a + vocales_e + vocales_i + vocales_o + vocales_u\n",
    "print(vocales)"
   ]
  },
  {
   "cell_type": "markdown",
   "id": "4b6211c5",
   "metadata": {},
   "source": [
    "4. Contar el número total de palabras en el texto ingresado"
   ]
  },
  {
   "cell_type": "code",
   "execution_count": 27,
   "id": "5b6eb1b1",
   "metadata": {},
   "outputs": [
    {
     "name": "stdout",
     "output_type": "stream",
     "text": [
      "3\n"
     ]
    }
   ],
   "source": [
    "palabras = texto.count(\" \") + 1\n",
    "print (palabras)"
   ]
  },
  {
   "cell_type": "markdown",
   "id": "bee5597e",
   "metadata": {},
   "source": [
    "5. Eliminar la primera palabra"
   ]
  },
  {
   "cell_type": "code",
   "execution_count": 75,
   "id": "8bcbfe9d",
   "metadata": {},
   "outputs": [
    {
     "data": {
      "text/plain": [
       "'soy Nicolás y me encuentro estudiando para ser un Data Science '"
      ]
     },
     "execution_count": 75,
     "metadata": {},
     "output_type": "execute_result"
    }
   ],
   "source": [
    "primer_espacio = texto.find(\" \")\n",
    "eliminar = texto[primer_espacio +1:]\n",
    "eliminar"
   ]
  },
  {
   "cell_type": "markdown",
   "id": "d5b05440",
   "metadata": {},
   "source": [
    "6. Reemplazar todos los espacios por guiones medios (-)"
   ]
  },
  {
   "cell_type": "code",
   "execution_count": 79,
   "id": "90a21e61",
   "metadata": {},
   "outputs": [
    {
     "name": "stdout",
     "output_type": "stream",
     "text": [
      "Hola,-soy-Nicolás-y-me-encuentro-estudiando-para-ser-un-Data-Science-\n"
     ]
    }
   ],
   "source": [
    "reemplazo = texto.replace(\" \",\"-\")\n",
    "print (reemplazo)"
   ]
  },
  {
   "cell_type": "markdown",
   "id": "8a61c508",
   "metadata": {},
   "source": [
    "7. Cambia las mayúsculas a minúsculas y las minúsculas a mayúsculas"
   ]
  },
  {
   "cell_type": "code",
   "execution_count": 77,
   "id": "8cb35aaf",
   "metadata": {},
   "outputs": [
    {
     "name": "stdout",
     "output_type": "stream",
     "text": [
      "hOLA, SOY nICOLÁS Y ME ENCUENTRO ESTUDIANDO PARA SER UN dATA sCIENCE \n"
     ]
    }
   ],
   "source": [
    "mayus = texto.swapcase()\n",
    "print(mayus)"
   ]
  },
  {
   "cell_type": "markdown",
   "id": "66b8d816",
   "metadata": {},
   "source": [
    "Muéstrale al usuario los resultados del análisis de su texto."
   ]
  },
  {
   "cell_type": "code",
   "execution_count": 83,
   "id": "eb0d449a",
   "metadata": {},
   "outputs": [
    {
     "name": "stdout",
     "output_type": "stream",
     "text": [
      "Hola, soy Nicolás y me encuentro estudiando para ser un Data Science \n",
      "69\n",
      "24\n",
      "3\n",
      "soy Nicolás y me encuentro estudiando para ser un Data Science \n",
      "Hola,-soy-Nicolás-y-me-encuentro-estudiando-para-ser-un-Data-Science-\n",
      "hOLA, SOY nICOLÁS Y ME ENCUENTRO ESTUDIANDO PARA SER UN dATA sCIENCE \n"
     ]
    }
   ],
   "source": [
    "print(texto)\n",
    "print(conteo_caracteres)\n",
    "print(vocales)\n",
    "print(palabras)\n",
    "print(eliminar)\n",
    "print(reemplazo)\n",
    "print(mayus)"
   ]
  },
  {
   "cell_type": "code",
   "execution_count": 87,
   "id": "19ef45e2-992b-4e1b-92d6-207242783fe4",
   "metadata": {},
   "outputs": [
    {
     "name": "stdout",
     "output_type": "stream",
     "text": [
      "Help on method_descriptor:\n",
      "\n",
      "reverse(self, /) unbound builtins.list method\n",
      "    Reverse *IN PLACE*.\n",
      "\n"
     ]
    }
   ],
   "source": [
    "help(list.reverse)"
   ]
  }
 ],
 "metadata": {
  "kernelspec": {
   "display_name": "Python 3 (ipykernel)",
   "language": "python",
   "name": "python3"
  },
  "language_info": {
   "codemirror_mode": {
    "name": "ipython",
    "version": 3
   },
   "file_extension": ".py",
   "mimetype": "text/x-python",
   "name": "python",
   "nbconvert_exporter": "python",
   "pygments_lexer": "ipython3",
   "version": "3.12.7"
  }
 },
 "nbformat": 4,
 "nbformat_minor": 5
}
