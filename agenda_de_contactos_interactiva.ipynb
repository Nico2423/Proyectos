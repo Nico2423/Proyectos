{
 "cells": [
  {
   "cell_type": "markdown",
   "id": "0d153c56",
   "metadata": {},
   "source": [
    "<h1>Agenda de Contactos Interactiva<h1>\n",
    "\n",
    "### Objetivo\n",
    "Crear una agenda de contactos utilizando Python, aplicando los conceptos aprendidos sobre listas, tuplas, diccionarios, booleanos y estructuras de control.\n",
    "\n",
    "\n",
    "### Consigna\n",
    "Cada vez que inicies tu agenda, va a comenzar preguntándole al usuario cuál de estas opciones prefiere:\n",
    "1. **Añadir un contacto**: Crear un nuevo registro en la agenda (nombre, telefono).\n",
    "2. **Buscar un contacto**: Buscar un contacto por nombre y mostrar su teléfono, o un mensaje de error si no lo encuentra.\n",
    "3. **Editar un contacto**: Modificar teléfono de un contacto existente.\n",
    "4. **Eliminar un contacto**: Eliminar un contacto de la agenda (investiga los métodos disponibles para lograrlo)\n",
    "5. **Mostrar todos los contactos**: Mostrar todos los contactos guardados en la agenda.\n",
    "\n",
    "El usuario elegirá una de esas opciones, y el programa ejecutará el código correspondiente para procesar su pedido y mostrarle el resultado.\n"
   ]
  },
  {
   "cell_type": "markdown",
   "id": "c6c4ab9d",
   "metadata": {},
   "source": [
    "## Resolución"
   ]
  },
  {
   "cell_type": "markdown",
   "id": "cb507a52",
   "metadata": {},
   "source": [
    "Crea una agenda vacía"
   ]
  },
  {
   "cell_type": "code",
   "execution_count": 1,
   "id": "e9c026bd",
   "metadata": {},
   "outputs": [
    {
     "data": {
      "text/plain": [
       "dict"
      ]
     },
     "execution_count": 1,
     "metadata": {},
     "output_type": "execute_result"
    }
   ],
   "source": [
    "agenda = {}"
   ]
  },
  {
   "cell_type": "markdown",
   "id": "be7b6b93",
   "metadata": {},
   "source": [
    "En la siguiente celda, incluye el código para ejecutar las siguientes instrucciones:\n",
    "- Mostrar en pantalla las opciones\n",
    "- Pedirle al usuario que elija las opciones\n",
    "- Crear una estructura de control (*if*, *elif* y *else*) que ejecute diferentes bloques de código según las opciones elegidas."
   ]
  },
  {
   "cell_type": "code",
   "execution_count": 33,
   "id": "45fbcf91",
   "metadata": {},
   "outputs": [
    {
     "name": "stdout",
     "output_type": "stream",
     "text": [
      "Bienvenido a tu agenda interactiva\n",
      "1. Añadir un contacto\n",
      "2. Buscar un contacto\n",
      "3. Editar un contacto\n",
      "4. Eliminar un contacto\n",
      "5. Mostrar todos los contactos\n"
     ]
    },
    {
     "name": "stdin",
     "output_type": "stream",
     "text": [
      "Ingresa una opción 5\n"
     ]
    },
    {
     "name": "stdout",
     "output_type": "stream",
     "text": [
      "{'Nicolás': '3172512330', 'Manuela': '321456778', 'Luz': '98765432', 'Francy': '098765432'}\n"
     ]
    }
   ],
   "source": [
    "print(\"Bienvenido a tu agenda interactiva\")\n",
    "print(\"1. Añadir un contacto\")\n",
    "print(\"2. Buscar un contacto\")\n",
    "print(\"3. Editar un contacto\")\n",
    "print(\"4. Eliminar un contacto\")\n",
    "print(\"5. Mostrar todos los contactos\")\n",
    "\n",
    "opcion = int(input(\"Ingresa una opción\"))\n",
    "\n",
    "#Lógica para agregar un contacto\n",
    "if opcion == 1:\n",
    "    nombre = input(\"Ingresa el nombre a agregar:\")\n",
    "    telefono = input (\"Ingresa su teléfono\")\n",
    "    agenda[nombre] = telefono\n",
    "\n",
    "#Lógica para buscar un contacto\n",
    "elif opcion == 2:\n",
    "    nombre = input(\"Ingresa el nombre de la persona que deseas buscar:\")\n",
    "    if nombre in agenda:\n",
    "        print(f\"{nombre}: {agenda[nombre]}\")\n",
    "    else:\n",
    "        print(f\"{nombre} no está en tu agenda\")\n",
    "elif opcion == 3:\n",
    "    nombre = input(\"Ingresa el nombre del contacto que deseas editar:\")\n",
    "    telefono = input(\"Ingresa el nuevo número de teléfono:\")\n",
    "    agenda[nombre]= telefono\n",
    "elif opcion == 4:\n",
    "    nombre = input(\"Ingresa el nombre del contacto que deseas eliminar:\")\n",
    "    agenda.pop(nombre)\n",
    "    print(f\"Has eliminado con éxito a {nombre} de tu agenda\")\n",
    "else:\n",
    "    print(agenda)\n"
   ]
  },
  {
   "cell_type": "code",
   "execution_count": 23,
   "id": "70123956-2411-4689-8272-64fdc7a61f22",
   "metadata": {},
   "outputs": [
    {
     "name": "stdout",
     "output_type": "stream",
     "text": [
      "{'Nicolás': '3172512330'}\n"
     ]
    }
   ],
   "source": [
    "print(agenda)"
   ]
  }
 ],
 "metadata": {
  "kernelspec": {
   "display_name": "Python 3 (ipykernel)",
   "language": "python",
   "name": "python3"
  },
  "language_info": {
   "codemirror_mode": {
    "name": "ipython",
    "version": 3
   },
   "file_extension": ".py",
   "mimetype": "text/x-python",
   "name": "python",
   "nbconvert_exporter": "python",
   "pygments_lexer": "ipython3",
   "version": "3.12.7"
  }
 },
 "nbformat": 4,
 "nbformat_minor": 5
}
